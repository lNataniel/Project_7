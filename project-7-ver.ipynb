{
 "cells": [
  {
   "cell_type": "code",
   "execution_count": 1,
   "metadata": {
    "_kg_hide-input": true,
    "execution": {
     "iopub.execute_input": "2022-01-12T12:08:53.329481Z",
     "iopub.status.busy": "2022-01-12T12:08:53.329013Z",
     "iopub.status.idle": "2022-01-12T12:08:54.080667Z",
     "shell.execute_reply": "2022-01-12T12:08:54.079719Z",
     "shell.execute_reply.started": "2022-01-12T12:08:53.329387Z"
    },
    "papermill": {
     "duration": 1.640847,
     "end_time": "2021-04-09T10:21:14.425084",
     "exception": false,
     "start_time": "2021-04-09T10:21:12.784237",
     "status": "completed"
    },
    "tags": []
   },
   "outputs": [
    {
     "name": "stderr",
     "output_type": "stream",
     "text": [
      "'nvidia-smi' is not recognized as an internal or external command,\n",
      "operable program or batch file.\n"
     ]
    }
   ],
   "source": [
    "!nvidia-smi"
   ]
  },
  {
   "cell_type": "code",
   "execution_count": 2,
   "metadata": {
    "_kg_hide-output": true,
    "execution": {
     "iopub.execute_input": "2022-01-12T12:09:52.904976Z",
     "iopub.status.busy": "2022-01-12T12:09:52.904347Z"
    },
    "papermill": {
     "duration": 17.756491,
     "end_time": "2021-04-09T10:21:32.237756",
     "exception": false,
     "start_time": "2021-04-09T10:21:14.481265",
     "status": "completed"
    },
    "tags": []
   },
   "outputs": [
    {
     "name": "stdout",
     "output_type": "stream",
     "text": [
      "^C\n",
      "Collecting git+https://github.com/mjkvaak/ImageDataAugmentor\n",
      "  Cloning https://github.com/mjkvaak/ImageDataAugmentor to c:\\users\\cstreznial\\appdata\\local\\temp\\pip-req-build-5beuyotg\n"
     ]
    },
    {
     "name": "stderr",
     "output_type": "stream",
     "text": [
      "ERROR: Command errored out with exit status 128: git clone -q https://github.com/mjkvaak/ImageDataAugmentor 'C:\\Users\\cstreznial\\AppData\\Local\\Temp\\pip-req-build-5beuyotg' Check the logs for full command output.\n"
     ]
    }
   ],
   "source": [
    "# Обновление tensorflow\n",
    "!pip install tensorflow --upgrade\n",
    "# Загружаем обвязку под keras для использования продвинутых библиотек аугментации\n",
    "!pip install git+https://github.com/mjkvaak/ImageDataAugmentor"
   ]
  },
  {
   "cell_type": "code",
   "execution_count": 3,
   "metadata": {
    "_kg_hide-input": true,
    "papermill": {
     "duration": 4.95918,
     "end_time": "2021-04-09T10:21:37.250431",
     "exception": false,
     "start_time": "2021-04-09T10:21:32.291251",
     "status": "completed"
    },
    "tags": []
   },
   "outputs": [
    {
     "ename": "ModuleNotFoundError",
     "evalue": "No module named 'tensorflow'",
     "output_type": "error",
     "traceback": [
      "\u001b[1;31m---------------------------------------------------------------------------\u001b[0m",
      "\u001b[1;31mModuleNotFoundError\u001b[0m                       Traceback (most recent call last)",
      "\u001b[1;32m<ipython-input-3-3ff05899c191>\u001b[0m in \u001b[0;36m<module>\u001b[1;34m\u001b[0m\n\u001b[0;32m     10\u001b[0m \u001b[1;32mimport\u001b[0m \u001b[0mgc\u001b[0m\u001b[1;33m\u001b[0m\u001b[1;33m\u001b[0m\u001b[0m\n\u001b[0;32m     11\u001b[0m \u001b[1;33m\u001b[0m\u001b[0m\n\u001b[1;32m---> 12\u001b[1;33m \u001b[1;32mimport\u001b[0m \u001b[0mtensorflow\u001b[0m \u001b[1;32mas\u001b[0m \u001b[0mtf\u001b[0m\u001b[1;33m\u001b[0m\u001b[1;33m\u001b[0m\u001b[0m\n\u001b[0m\u001b[0;32m     13\u001b[0m \u001b[1;32mimport\u001b[0m \u001b[0mtensorflow\u001b[0m\u001b[1;33m.\u001b[0m\u001b[0mkeras\u001b[0m \u001b[1;32mas\u001b[0m \u001b[0mkeras\u001b[0m\u001b[1;33m\u001b[0m\u001b[1;33m\u001b[0m\u001b[0m\n\u001b[0;32m     14\u001b[0m \u001b[1;32mfrom\u001b[0m \u001b[0mtensorflow\u001b[0m\u001b[1;33m.\u001b[0m\u001b[0mkeras\u001b[0m\u001b[1;33m.\u001b[0m\u001b[0mpreprocessing\u001b[0m \u001b[1;32mimport\u001b[0m \u001b[0mimage\u001b[0m\u001b[1;33m\u001b[0m\u001b[1;33m\u001b[0m\u001b[0m\n",
      "\u001b[1;31mModuleNotFoundError\u001b[0m: No module named 'tensorflow'"
     ]
    }
   ],
   "source": [
    "import numpy as np\n",
    "import pandas as pd\n",
    "import matplotlib.pyplot as plt\n",
    "import seaborn as sns\n",
    "#import pickle\n",
    "import zipfile\n",
    "import csv\n",
    "import sys\n",
    "import os\n",
    "import gc\n",
    "\n",
    "import tensorflow as tf\n",
    "import tensorflow.keras as keras\n",
    "from tensorflow.keras.preprocessing import image\n",
    "#from tensorflow.keras.preprocessing.image import ImageDataGenerator\n",
    "from tensorflow.keras.callbacks import ModelCheckpoint, ReduceLROnPlateau\n",
    "from tensorflow.keras.callbacks import Callback, EarlyStopping\n",
    "from tensorflow.keras.regularizers import l2\n",
    "from tensorflow.keras import optimizers\n",
    "import tensorflow.keras.models as Model\n",
    "import tensorflow.keras.layers as Layer\n",
    "\n",
    "#from sklearn.model_selection import train_test_split, StratifiedKFold\n",
    "\n",
    "import PIL\n",
    "from PIL import ImageOps, ImageFilter\n",
    "#увеличим дефолтный размер графиков\n",
    "from pylab import rcParams\n",
    "rcParams['figure.figsize'] = 10, 5\n",
    "#графики в svg выглядят более четкими\n",
    "%config InlineBackend.figure_format = 'svg' \n",
    "%matplotlib inline\n",
    "\n",
    "print(os.listdir(\"../input\"))\n",
    "print('Python       :', sys.version.split('\\n')[0])\n",
    "print('Numpy        :', np.__version__)\n",
    "print('Tensorflow   :', tf.__version__)\n",
    "print('Keras        :', tf.keras.__version__)"
   ]
  },
  {
   "cell_type": "code",
   "execution_count": null,
   "metadata": {
    "_kg_hide-input": true,
    "papermill": {
     "duration": 1.75585,
     "end_time": "2021-04-09T10:21:39.059474",
     "exception": false,
     "start_time": "2021-04-09T10:21:37.303624",
     "status": "completed"
    },
    "tags": []
   },
   "outputs": [],
   "source": [
    "# сохраняем версии пакетов\n",
    "!pip freeze > requirements.txt"
   ]
  },
  {
   "cell_type": "markdown",
   "metadata": {
    "papermill": {
     "duration": 0.053988,
     "end_time": "2021-04-09T10:21:39.169426",
     "exception": false,
     "start_time": "2021-04-09T10:21:39.115438",
     "status": "completed"
    },
    "tags": []
   },
   "source": [
    "# Setup"
   ]
  },
  {
   "cell_type": "code",
   "execution_count": null,
   "metadata": {
    "execution": {
     "iopub.execute_input": "2022-01-12T10:46:54.185065Z",
     "iopub.status.busy": "2022-01-12T10:46:54.184657Z",
     "iopub.status.idle": "2022-01-12T10:46:54.191712Z",
     "shell.execute_reply": "2022-01-12T10:46:54.190608Z",
     "shell.execute_reply.started": "2022-01-12T10:46:54.185023Z"
    },
    "papermill": {
     "duration": 0.063343,
     "end_time": "2021-04-09T10:21:39.286614",
     "exception": false,
     "start_time": "2021-04-09T10:21:39.223271",
     "status": "completed"
    },
    "tags": []
   },
   "outputs": [],
   "source": [
    "# В setup выносим основные настройки: так удобнее их перебирать в дальнейшем.\n",
    "\n",
    "RANDOM_SEED          = 42\n",
    "\n",
    "EPOCHS               = 8  # эпох на обучение\n",
    "BATCH_SIZE           = 8 # уменьшаем batch если сеть большая, иначе не поместится в память на GPU\n",
    "LR                   = 1e-3\n",
    "VAL_SPLIT            = 0.15 # сколько данных выделяем на тест = 15%\n",
    "\n",
    "CLASS_NUM            = 10  # количество классов в нашей задаче\n",
    "IMG_SIZE             = 224 # какого размера подаем изображения в сеть\n",
    "IMG_CHANNELS         = 3   # у RGB 3 канала\n",
    "input_shape          = (IMG_SIZE, IMG_SIZE, IMG_CHANNELS)\n",
    "\n",
    "DATA_PATH = '../input/sfcarclassif/'\n",
    "PATH = \"../working/\" # рабочая директория"
   ]
  },
  {
   "cell_type": "markdown",
   "metadata": {
    "papermill": {
     "duration": 0.052942,
     "end_time": "2021-04-09T10:21:39.392326",
     "exception": false,
     "start_time": "2021-04-09T10:21:39.339384",
     "status": "completed"
    },
    "tags": []
   },
   "source": [
    "# EDA"
   ]
  },
  {
   "cell_type": "code",
   "execution_count": null,
   "metadata": {
    "execution": {
     "iopub.execute_input": "2022-01-12T10:46:54.197609Z",
     "iopub.status.busy": "2022-01-12T10:46:54.197182Z",
     "iopub.status.idle": "2022-01-12T10:46:54.296827Z",
     "shell.execute_reply": "2022-01-12T10:46:54.295805Z",
     "shell.execute_reply.started": "2022-01-12T10:46:54.197564Z"
    },
    "papermill": {
     "duration": 0.112451,
     "end_time": "2021-04-09T10:21:39.557525",
     "exception": false,
     "start_time": "2021-04-09T10:21:39.445074",
     "status": "completed"
    },
    "tags": []
   },
   "outputs": [],
   "source": [
    "train_df = pd.read_csv(DATA_PATH+\"train.csv\")\n",
    "sample_submission = pd.read_csv(DATA_PATH+\"sample-submission.csv\")\n",
    "train_df.head()"
   ]
  },
  {
   "cell_type": "code",
   "execution_count": null,
   "metadata": {
    "execution": {
     "iopub.execute_input": "2022-01-12T10:46:54.298836Z",
     "iopub.status.busy": "2022-01-12T10:46:54.298208Z",
     "iopub.status.idle": "2022-01-12T10:46:54.323109Z",
     "shell.execute_reply": "2022-01-12T10:46:54.322241Z",
     "shell.execute_reply.started": "2022-01-12T10:46:54.298796Z"
    },
    "papermill": {
     "duration": 0.073241,
     "end_time": "2021-04-09T10:21:39.684141",
     "exception": false,
     "start_time": "2021-04-09T10:21:39.6109",
     "status": "completed"
    },
    "tags": []
   },
   "outputs": [],
   "source": [
    "train_df.info()"
   ]
  },
  {
   "cell_type": "markdown",
   "metadata": {
    "papermill": {
     "duration": 0.053351,
     "end_time": "2021-04-09T10:21:39.794816",
     "exception": false,
     "start_time": "2021-04-09T10:21:39.741465",
     "status": "completed"
    },
    "tags": []
   },
   "source": [
    "Нет пропусков."
   ]
  },
  {
   "cell_type": "code",
   "execution_count": null,
   "metadata": {
    "execution": {
     "iopub.execute_input": "2022-01-12T10:46:54.326362Z",
     "iopub.status.busy": "2022-01-12T10:46:54.325532Z",
     "iopub.status.idle": "2022-01-12T10:46:54.340767Z",
     "shell.execute_reply": "2022-01-12T10:46:54.33974Z",
     "shell.execute_reply.started": "2022-01-12T10:46:54.32631Z"
    },
    "papermill": {
     "duration": 0.068066,
     "end_time": "2021-04-09T10:21:39.917813",
     "exception": false,
     "start_time": "2021-04-09T10:21:39.849747",
     "status": "completed"
    },
    "tags": []
   },
   "outputs": [],
   "source": [
    "train_df.Category.value_counts()"
   ]
  },
  {
   "cell_type": "markdown",
   "metadata": {
    "papermill": {
     "duration": 0.089958,
     "end_time": "2021-04-09T10:21:40.099549",
     "exception": false,
     "start_time": "2021-04-09T10:21:40.009591",
     "status": "completed"
    },
    "tags": []
   },
   "source": [
    "Данные распределены равномерно"
   ]
  },
  {
   "cell_type": "code",
   "execution_count": null,
   "metadata": {
    "execution": {
     "iopub.execute_input": "2022-01-12T10:46:54.342724Z",
     "iopub.status.busy": "2022-01-12T10:46:54.342122Z",
     "iopub.status.idle": "2022-01-12T10:46:54.358114Z",
     "shell.execute_reply": "2022-01-12T10:46:54.354892Z",
     "shell.execute_reply.started": "2022-01-12T10:46:54.342679Z"
    },
    "papermill": {
     "duration": 0.100173,
     "end_time": "2021-04-09T10:21:40.289983",
     "exception": false,
     "start_time": "2021-04-09T10:21:40.18981",
     "status": "completed"
    },
    "tags": []
   },
   "outputs": [],
   "source": [
    "train_df['Category'].nunique()"
   ]
  },
  {
   "cell_type": "markdown",
   "metadata": {
    "papermill": {
     "duration": 0.089701,
     "end_time": "2021-04-09T10:21:40.470423",
     "exception": false,
     "start_time": "2021-04-09T10:21:40.380722",
     "status": "completed"
    },
    "tags": []
   },
   "source": [
    "В датасете представлено 10 марок машин"
   ]
  },
  {
   "cell_type": "code",
   "execution_count": null,
   "metadata": {
    "execution": {
     "iopub.execute_input": "2022-01-12T10:46:54.361458Z",
     "iopub.status.busy": "2022-01-12T10:46:54.360983Z",
     "iopub.status.idle": "2022-01-12T10:46:54.370065Z",
     "shell.execute_reply": "2022-01-12T10:46:54.36769Z",
     "shell.execute_reply.started": "2022-01-12T10:46:54.361412Z"
    },
    "papermill": {
     "duration": 0.09107,
     "end_time": "2021-04-09T10:21:40.752891",
     "exception": false,
     "start_time": "2021-04-09T10:21:40.661821",
     "status": "completed"
    },
    "tags": []
   },
   "outputs": [],
   "source": [
    "# Исходные данные можно распаковать в output, используя ниже приведенный код\n",
    "\n",
    "#print('Распаковываем картинки')\n",
    "\n",
    "#for data_zip in ['train.zip', 'test.zip']:\n",
    "#    with zipfile.ZipFile('../'+data_zip,\"r\") as z:\n",
    "#        z.extractall(PATH)\n",
    "        \n",
    "#print(os.listdir(PATH))\n",
    "\n",
    "# Однако при такой распаковке возникает проблема сохранения файла submission\n",
    "# Поэтому распакованные исходные данные добавили из базы каггла"
   ]
  },
  {
   "cell_type": "code",
   "execution_count": null,
   "metadata": {
    "execution": {
     "iopub.execute_input": "2022-01-12T10:46:54.375739Z",
     "iopub.status.busy": "2022-01-12T10:46:54.374757Z",
     "iopub.status.idle": "2022-01-12T10:46:55.466131Z",
     "shell.execute_reply": "2022-01-12T10:46:55.46194Z",
     "shell.execute_reply.started": "2022-01-12T10:46:54.375674Z"
    },
    "papermill": {
     "duration": 1.32306,
     "end_time": "2021-04-09T10:21:42.281603",
     "exception": false,
     "start_time": "2021-04-09T10:21:40.958543",
     "status": "completed"
    },
    "tags": []
   },
   "outputs": [],
   "source": [
    "print('Пример картинок')\n",
    "plt.figure(figsize=(12,8))\n",
    "\n",
    "random_image = train_df.sample(n=9)\n",
    "random_image_paths = random_image['Id'].values\n",
    "random_image_cat = random_image['Category'].values\n",
    "\n",
    "for index, path in enumerate(random_image_paths):\n",
    "    im = PIL.Image.open(DATA_PATH+f'train/train/{random_image_cat[index]}/{path}')\n",
    "    plt.subplot(3,3, index+1)\n",
    "    plt.imshow(im)\n",
    "    plt.title('Class: '+str(random_image_cat[index]))\n",
    "    plt.axis('off')\n",
    "plt.show()"
   ]
  },
  {
   "cell_type": "markdown",
   "metadata": {
    "papermill": {
     "duration": 0.067716,
     "end_time": "2021-04-09T10:21:42.4164",
     "exception": false,
     "start_time": "2021-04-09T10:21:42.348684",
     "status": "completed"
    },
    "tags": []
   },
   "source": [
    "Картинки представлены разного размера"
   ]
  },
  {
   "cell_type": "code",
   "execution_count": null,
   "metadata": {
    "execution": {
     "iopub.execute_input": "2022-01-12T10:48:25.083166Z",
     "iopub.status.busy": "2022-01-12T10:48:25.082761Z",
     "iopub.status.idle": "2022-01-12T10:48:25.344701Z",
     "shell.execute_reply": "2022-01-12T10:48:25.343838Z",
     "shell.execute_reply.started": "2022-01-12T10:48:25.083134Z"
    },
    "papermill": {
     "duration": 0.264441,
     "end_time": "2021-04-09T10:21:42.746515",
     "exception": false,
     "start_time": "2021-04-09T10:21:42.482074",
     "status": "completed"
    },
    "tags": []
   },
   "outputs": [],
   "source": [
    "#Посмотрим на примеры картинок и их размеры, чтобы понимать, как их лучше обрабатывать и сжимать.\n",
    "image = PIL.Image.open(DATA_PATH+f'train/train/0/100380.jpg')\n",
    "imgplot = plt.imshow(image)\n",
    "plt.show()\n",
    "image.size"
   ]
  },
  {
   "cell_type": "code",
   "execution_count": null,
   "metadata": {
    "execution": {
     "iopub.execute_input": "2022-01-12T10:48:21.233055Z",
     "iopub.status.busy": "2022-01-12T10:48:21.23271Z",
     "iopub.status.idle": "2022-01-12T10:48:21.266905Z",
     "shell.execute_reply": "2022-01-12T10:48:21.26125Z",
     "shell.execute_reply.started": "2022-01-12T10:48:21.233024Z"
    },
    "papermill": {
     "duration": 0.261853,
     "end_time": "2021-04-09T10:21:43.079824",
     "exception": false,
     "start_time": "2021-04-09T10:21:42.817971",
     "status": "completed"
    },
    "tags": []
   },
   "outputs": [],
   "source": [
    "#delete df no longer needed\n",
    "del train_df\n",
    "#collect residual garbage\n",
    "gc.collect()"
   ]
  },
  {
   "cell_type": "markdown",
   "metadata": {
    "papermill": {
     "duration": 0.071149,
     "end_time": "2021-04-09T10:21:43.221906",
     "exception": false,
     "start_time": "2021-04-09T10:21:43.150757",
     "status": "completed"
    },
    "tags": []
   },
   "source": [
    "# Аугментация данных"
   ]
  },
  {
   "cell_type": "code",
   "execution_count": null,
   "metadata": {
    "execution": {
     "iopub.execute_input": "2022-01-12T10:46:56.214277Z",
     "iopub.status.busy": "2022-01-12T10:46:56.213829Z",
     "iopub.status.idle": "2022-01-12T10:46:56.587906Z",
     "shell.execute_reply": "2022-01-12T10:46:56.584571Z",
     "shell.execute_reply.started": "2022-01-12T10:46:56.214114Z"
    },
    "papermill": {
     "duration": 1.20941,
     "end_time": "2021-04-09T10:21:44.502688",
     "exception": false,
     "start_time": "2021-04-09T10:21:43.293278",
     "status": "completed"
    },
    "tags": []
   },
   "outputs": [],
   "source": [
    "from ImageDataAugmentor.image_data_augmentor import *\n",
    "import albumentations as A"
   ]
  },
  {
   "cell_type": "code",
   "execution_count": null,
   "metadata": {
    "execution": {
     "iopub.status.busy": "2022-01-12T10:46:56.589215Z",
     "iopub.status.idle": "2022-01-12T10:46:56.590914Z"
    },
    "papermill": {
     "duration": 0.083672,
     "end_time": "2021-04-09T10:21:44.657506",
     "exception": false,
     "start_time": "2021-04-09T10:21:44.573834",
     "status": "completed"
    },
    "tags": []
   },
   "outputs": [],
   "source": [
    "AUGMENTATIONS = A.Compose([\n",
    "    A.GaussianBlur(p=0.05),\n",
    "    A.RandomBrightness(limit=0.2, p=0.5),\n",
    "    A.ShiftScaleRotate(shift_limit=0.0625, \n",
    "                       scale_limit=0.01, \n",
    "                       interpolation=1, \n",
    "                       border_mode=4, \n",
    "                       rotate_limit=20, \n",
    "                       p=.75),\n",
    "    A.OneOf([\n",
    "        A.CenterCrop(height=224, width=200),\n",
    "        A.CenterCrop(height=200, width=224)],\n",
    "        p=0.5),\n",
    "    A.OneOf([\n",
    "        A.RandomBrightnessContrast(brightness_limit=0.3, \n",
    "                                                contrast_limit=0.3),\n",
    "        A.RandomBrightnessContrast(brightness_limit=0.1, \n",
    "                                                contrast_limit=0.1)],\n",
    "        p=0.5),\n",
    "    A.HorizontalFlip(p=0.5),\n",
    "    A.HueSaturationValue(p=0.5),\n",
    "    A.RGBShift(p=0.5),\n",
    "    A.FancyPCA(alpha=0.1, \n",
    "               always_apply=False, \n",
    "               p=0.5),\n",
    "    A.Resize(IMG_SIZE, IMG_SIZE)\n",
    "])"
   ]
  },
  {
   "cell_type": "markdown",
   "metadata": {
    "papermill": {
     "duration": 0.07159,
     "end_time": "2021-04-09T10:21:44.800869",
     "exception": false,
     "start_time": "2021-04-09T10:21:44.729279",
     "status": "completed"
    },
    "tags": []
   },
   "source": [
    "# Генерация данных"
   ]
  },
  {
   "cell_type": "code",
   "execution_count": null,
   "metadata": {
    "execution": {
     "iopub.status.busy": "2022-01-12T10:46:56.599763Z",
     "iopub.status.idle": "2022-01-12T10:46:56.600948Z"
    },
    "papermill": {
     "duration": 3.865034,
     "end_time": "2021-04-09T10:21:48.738085",
     "exception": false,
     "start_time": "2021-04-09T10:21:44.873051",
     "status": "completed"
    },
    "tags": []
   },
   "outputs": [],
   "source": [
    "train_gen = ImageDataAugmentor(rescale=1./255,\n",
    "                        augment=AUGMENTATIONS, \n",
    "                        seed=RANDOM_SEED,\n",
    "                        validation_split=VAL_SPLIT\n",
    "                       )\n",
    "\n",
    "train_datagen = train_gen.flow_from_directory(DATA_PATH+'train/train', \n",
    "                                            class_mode='categorical', \n",
    "                                            batch_size=BATCH_SIZE, \n",
    "                                            target_size=(IMG_SIZE, IMG_SIZE),\n",
    "                                            shuffle=True,\n",
    "                                            subset='training'\n",
    "                                           )\n",
    "test_datagen = train_gen.flow_from_directory(DATA_PATH+'train/train', \n",
    "                                             class_mode='categorical', \n",
    "                                             batch_size=BATCH_SIZE, \n",
    "                                             target_size=(IMG_SIZE, IMG_SIZE),\n",
    "                                             shuffle=True,\n",
    "                                             subset='validation'\n",
    "                                            )"
   ]
  },
  {
   "cell_type": "code",
   "execution_count": null,
   "metadata": {
    "execution": {
     "iopub.status.busy": "2022-01-12T10:46:56.602995Z",
     "iopub.status.idle": "2022-01-12T10:46:56.604511Z"
    },
    "papermill": {
     "duration": 1.045963,
     "end_time": "2021-04-09T10:21:49.856801",
     "exception": false,
     "start_time": "2021-04-09T10:21:48.810838",
     "status": "completed"
    },
    "tags": []
   },
   "outputs": [],
   "source": [
    "train_datagen.show_data(rows=3, cols=5)"
   ]
  },
  {
   "cell_type": "markdown",
   "metadata": {
    "papermill": {
     "duration": 0.079713,
     "end_time": "2021-04-09T10:21:50.018661",
     "exception": false,
     "start_time": "2021-04-09T10:21:49.938948",
     "status": "completed"
    },
    "tags": []
   },
   "source": [
    "# Модель"
   ]
  },
  {
   "cell_type": "markdown",
   "metadata": {
    "papermill": {
     "duration": 0.082354,
     "end_time": "2021-04-09T10:21:50.181227",
     "exception": false,
     "start_time": "2021-04-09T10:21:50.098873",
     "status": "completed"
    },
    "tags": []
   },
   "source": [
    "Download pre-trained model"
   ]
  },
  {
   "cell_type": "code",
   "execution_count": null,
   "metadata": {
    "execution": {
     "iopub.status.busy": "2022-01-12T10:46:56.607301Z",
     "iopub.status.idle": "2022-01-12T10:46:56.608773Z"
    },
    "papermill": {
     "duration": 0.138163,
     "end_time": "2021-04-09T10:21:50.432657",
     "exception": false,
     "start_time": "2021-04-09T10:21:50.294494",
     "status": "completed"
    },
    "tags": []
   },
   "outputs": [],
   "source": [
    "# Загрузка модели efficientnet\n",
    "!pip install -q efficientnet"
   ]
  },
  {
   "cell_type": "code",
   "execution_count": null,
   "metadata": {
    "execution": {
     "iopub.status.busy": "2022-01-12T10:46:56.610902Z",
     "iopub.status.idle": "2022-01-12T10:46:56.613011Z"
    },
    "papermill": {
     "duration": 0.134095,
     "end_time": "2021-04-09T10:21:50.691345",
     "exception": false,
     "start_time": "2021-04-09T10:21:50.55725",
     "status": "completed"
    },
    "tags": []
   },
   "outputs": [],
   "source": [
    "#from tensorflow.keras.applications.xception import Xception\n",
    "#from tensorflow.keras.applications.inception_v3 import InceptionV3\n",
    "import efficientnet.keras as efn "
   ]
  },
  {
   "cell_type": "code",
   "execution_count": null,
   "metadata": {
    "execution": {
     "iopub.status.busy": "2022-01-12T10:46:56.615886Z",
     "iopub.status.idle": "2022-01-12T10:46:56.616474Z"
    },
    "papermill": {
     "duration": 6.547465,
     "end_time": "2021-04-09T10:21:57.370456",
     "exception": false,
     "start_time": "2021-04-09T10:21:50.822991",
     "status": "completed"
    },
    "tags": []
   },
   "outputs": [],
   "source": [
    "# Pre-trained model\n",
    "\n",
    "#base_model = Xception(weights='imagenet', \n",
    "#                      include_top=False, \n",
    "#                      input_shape = input_shape)\n",
    "\n",
    "#base_model = InceptionV3(weights='imagenet', \n",
    "#                         include_top=False, \n",
    "#                         input_shape = input_shape)\n",
    "\n",
    "base_model = efn.EfficientNetB5(weights='imagenet', \n",
    "                                include_top=False, \n",
    "                                input_shape = input_shape)"
   ]
  },
  {
   "cell_type": "code",
   "execution_count": null,
   "metadata": {
    "_kg_hide-output": true,
    "execution": {
     "iopub.status.busy": "2022-01-12T10:46:56.61991Z",
     "iopub.status.idle": "2022-01-12T10:46:56.620635Z"
    },
    "papermill": {
     "duration": 0.167844,
     "end_time": "2021-04-09T10:21:57.623702",
     "exception": false,
     "start_time": "2021-04-09T10:21:57.455858",
     "status": "completed"
    },
    "tags": []
   },
   "outputs": [],
   "source": [
    "base_model.summary()"
   ]
  },
  {
   "cell_type": "code",
   "execution_count": null,
   "metadata": {
    "execution": {
     "iopub.status.busy": "2022-01-12T10:46:56.621743Z",
     "iopub.status.idle": "2022-01-12T10:46:56.622196Z"
    },
    "papermill": {
     "duration": 0.100958,
     "end_time": "2021-04-09T10:21:57.844743",
     "exception": false,
     "start_time": "2021-04-09T10:21:57.743785",
     "status": "completed"
    },
    "tags": []
   },
   "outputs": [],
   "source": [
    "# freeze the pre-trained model weights, train only the top layers\n",
    "base_model.trainable = False"
   ]
  },
  {
   "cell_type": "code",
   "execution_count": null,
   "metadata": {
    "execution": {
     "iopub.status.busy": "2022-01-12T10:46:56.62394Z",
     "iopub.status.idle": "2022-01-12T10:46:56.62441Z"
    },
    "papermill": {
     "duration": 0.628586,
     "end_time": "2021-04-09T10:21:58.558744",
     "exception": false,
     "start_time": "2021-04-09T10:21:57.930158",
     "status": "completed"
    },
    "tags": []
   },
   "outputs": [],
   "source": [
    "model=Model.Sequential()\n",
    "model.add(base_model)\n",
    "model.add(Layer.GlobalAveragePooling2D())\n",
    "model.add(Layer.Dense(256, \n",
    "                      activation='relu', \n",
    "                      bias_regularizer=l2(1e-4),\n",
    "                      activity_regularizer=l2(1e-5)))\n",
    "model.add(Layer.BatchNormalization())\n",
    "model.add(Layer.Dropout(0.25))\n",
    "model.add(Layer.Dense(CLASS_NUM, activation='softmax'))"
   ]
  },
  {
   "cell_type": "code",
   "execution_count": null,
   "metadata": {
    "_kg_hide-output": true,
    "execution": {
     "iopub.status.busy": "2022-01-12T10:46:56.625433Z",
     "iopub.status.idle": "2022-01-12T10:46:56.625918Z"
    },
    "papermill": {
     "duration": 0.113008,
     "end_time": "2021-04-09T10:21:58.757912",
     "exception": false,
     "start_time": "2021-04-09T10:21:58.644904",
     "status": "completed"
    },
    "tags": []
   },
   "outputs": [],
   "source": [
    "model.summary()"
   ]
  },
  {
   "cell_type": "code",
   "execution_count": null,
   "metadata": {
    "execution": {
     "iopub.status.busy": "2022-01-12T10:46:56.627086Z",
     "iopub.status.idle": "2022-01-12T10:46:56.627573Z"
    },
    "papermill": {
     "duration": 0.098431,
     "end_time": "2021-04-09T10:21:58.943673",
     "exception": false,
     "start_time": "2021-04-09T10:21:58.845242",
     "status": "completed"
    },
    "tags": []
   },
   "outputs": [],
   "source": [
    "# Check the trainable status of the individual layers\n",
    "for layer in model.layers:\n",
    "    print(layer, layer.trainable)"
   ]
  },
  {
   "cell_type": "markdown",
   "metadata": {
    "papermill": {
     "duration": 0.087328,
     "end_time": "2021-04-09T10:21:59.118827",
     "exception": false,
     "start_time": "2021-04-09T10:21:59.031499",
     "status": "completed"
    },
    "tags": []
   },
   "source": [
    "# Fit"
   ]
  },
  {
   "cell_type": "code",
   "execution_count": null,
   "metadata": {
    "execution": {
     "iopub.status.busy": "2022-01-12T10:46:56.628954Z",
     "iopub.status.idle": "2022-01-12T10:46:56.629412Z"
    },
    "papermill": {
     "duration": 0.107761,
     "end_time": "2021-04-09T10:21:59.31398",
     "exception": false,
     "start_time": "2021-04-09T10:21:59.206219",
     "status": "completed"
    },
    "tags": []
   },
   "outputs": [],
   "source": [
    "model.compile(loss=\"categorical_crossentropy\", \n",
    "              optimizer=optimizers.Adam(lr=LR), \n",
    "              metrics=[\"accuracy\"])"
   ]
  },
  {
   "cell_type": "code",
   "execution_count": null,
   "metadata": {
    "execution": {
     "iopub.status.busy": "2022-01-12T10:46:56.631013Z",
     "iopub.status.idle": "2022-01-12T10:46:56.632099Z"
    },
    "papermill": {
     "duration": 0.094092,
     "end_time": "2021-04-09T10:21:59.494379",
     "exception": false,
     "start_time": "2021-04-09T10:21:59.400287",
     "status": "completed"
    },
    "tags": []
   },
   "outputs": [],
   "source": [
    "# Добавим ModelCheckpoint. \n",
    "# Эта функция позволяет сохранять прогресс обучения модели, \n",
    "# чтобы в нужный момент можно было его подгрузить и дообучить модель.\n",
    "checkpoint = ModelCheckpoint('best_model.hdf5', \n",
    "                             monitor = ['val_accuracy'], \n",
    "                             verbose = 1,\n",
    "                             mode = 'max')\n",
    "earlystop = EarlyStopping(monitor = 'val_accuracy',\n",
    "                          patience = 4,\n",
    "                          restore_best_weights = True)\n",
    "reduce_lr = ReduceLROnPlateau(monitor='val_loss',\n",
    "                              factor=0.25,\n",
    "                              patience=2,\n",
    "                              min_lr=0.0000001,\n",
    "                              verbose=1,\n",
    "                              mode='auto')\n",
    "callbacks_list = [checkpoint, earlystop, reduce_lr]"
   ]
  },
  {
   "cell_type": "code",
   "execution_count": null,
   "metadata": {
    "execution": {
     "iopub.status.busy": "2022-01-12T10:46:56.634297Z",
     "iopub.status.idle": "2022-01-12T10:46:56.634951Z"
    },
    "papermill": {
     "duration": 1667.512891,
     "end_time": "2021-04-09T10:49:47.094403",
     "exception": false,
     "start_time": "2021-04-09T10:21:59.581512",
     "status": "completed"
    },
    "tags": []
   },
   "outputs": [],
   "source": [
    "history = model.fit(\n",
    "        train_datagen,\n",
    "        steps_per_epoch = train_datagen.samples//train_datagen.batch_size,\n",
    "        validation_data = test_datagen, \n",
    "        validation_steps = test_datagen.samples//test_datagen.batch_size,\n",
    "        epochs = EPOCHS,\n",
    "        callbacks = callbacks_list\n",
    ")"
   ]
  },
  {
   "cell_type": "code",
   "execution_count": null,
   "metadata": {
    "execution": {
     "iopub.status.busy": "2022-01-12T10:46:56.63606Z",
     "iopub.status.idle": "2022-01-12T10:46:56.636842Z"
    },
    "papermill": {
     "duration": 3.988798,
     "end_time": "2021-04-09T10:49:54.554842",
     "exception": false,
     "start_time": "2021-04-09T10:49:50.566044",
     "status": "completed"
    },
    "tags": []
   },
   "outputs": [],
   "source": [
    "#model.save('../working/model_last.hdf5') \n",
    "model.load_weights('best_model.hdf5')"
   ]
  },
  {
   "cell_type": "code",
   "execution_count": null,
   "metadata": {
    "execution": {
     "iopub.status.busy": "2022-01-12T10:46:56.638325Z",
     "iopub.status.idle": "2022-01-12T10:46:56.638823Z"
    },
    "papermill": {
     "duration": 32.203465,
     "end_time": "2021-04-09T10:50:30.734447",
     "exception": false,
     "start_time": "2021-04-09T10:49:58.530982",
     "status": "completed"
    },
    "tags": []
   },
   "outputs": [],
   "source": [
    "scores = model.evaluate(test_datagen, verbose=1)\n",
    "print(\"Accuracy: %.2f%%\" % (scores[1]*100))"
   ]
  },
  {
   "cell_type": "code",
   "execution_count": null,
   "metadata": {
    "execution": {
     "iopub.status.busy": "2022-01-12T10:46:56.639783Z",
     "iopub.status.idle": "2022-01-12T10:46:56.64025Z"
    },
    "papermill": {
     "duration": 3.895965,
     "end_time": "2021-04-09T10:50:38.180839",
     "exception": false,
     "start_time": "2021-04-09T10:50:34.284874",
     "status": "completed"
    },
    "tags": []
   },
   "outputs": [],
   "source": [
    "def plot_history(history):\n",
    "    plt.figure(figsize=(10,5))\n",
    "    #plt.style.use('dark_background')\n",
    "    acc = history.history['accuracy'] \n",
    "    val_acc = history.history['val_accuracy']\n",
    "    loss = history.history['loss']\n",
    "    val_loss = history.history['val_loss']\n",
    "\n",
    "    epochs = range(len(acc))\n",
    "\n",
    "    plt.plot(epochs, acc, 'b', label='Training acc')\n",
    "    plt.plot(epochs, val_acc, 'g', label='Validation acc')\n",
    "    plt.title('Training and validation accuracy')\n",
    "    plt.legend()\n",
    "\n",
    "    #plt.figure()\n",
    "    plt.figure(figsize=(10,5))\n",
    "    #plt.style.use('dark_background')\n",
    "    plt.plot(epochs, loss, 'b', label='Training loss')\n",
    "    plt.plot(epochs, val_loss, 'g', label='Validation loss')\n",
    "    plt.title('Training and validation loss')\n",
    "    plt.legend()\n",
    "\n",
    "    plt.show()\n",
    "\n",
    "plot_history(history)"
   ]
  },
  {
   "cell_type": "markdown",
   "metadata": {
    "papermill": {
     "duration": 3.485425,
     "end_time": "2021-04-09T10:50:45.345393",
     "exception": false,
     "start_time": "2021-04-09T10:50:41.859968",
     "status": "completed"
    },
    "tags": []
   },
   "source": [
    "## Step 2\n",
    "### defrost a half of the pre-trained model weights"
   ]
  },
  {
   "cell_type": "code",
   "execution_count": null,
   "metadata": {
    "execution": {
     "iopub.status.busy": "2022-01-12T10:46:56.64146Z",
     "iopub.status.idle": "2022-01-12T10:46:56.6423Z"
    },
    "papermill": {
     "duration": 3.743796,
     "end_time": "2021-04-09T10:50:52.759162",
     "exception": false,
     "start_time": "2021-04-09T10:50:49.015366",
     "status": "completed"
    },
    "tags": []
   },
   "outputs": [],
   "source": [
    "base_model.trainable = True\n",
    "\n",
    "# Fine-tune from this layer onwards\n",
    "fine_tune_at = len(base_model.layers)//2\n",
    "\n",
    "# Freeze all the layers before the `fine_tune_at` layer\n",
    "for layer in base_model.layers[:fine_tune_at]:\n",
    "    layer.trainable =  False"
   ]
  },
  {
   "cell_type": "code",
   "execution_count": null,
   "metadata": {
    "execution": {
     "iopub.status.busy": "2022-01-12T10:46:56.643616Z",
     "iopub.status.idle": "2022-01-12T10:46:56.644176Z"
    },
    "papermill": {
     "duration": 3.576263,
     "end_time": "2021-04-09T10:50:59.839676",
     "exception": false,
     "start_time": "2021-04-09T10:50:56.263413",
     "status": "completed"
    },
    "tags": []
   },
   "outputs": [],
   "source": [
    "LR=0.0001\n",
    "model.compile(loss=\"categorical_crossentropy\", \n",
    "              optimizer=optimizers.Adam(lr=LR), \n",
    "              metrics=[\"accuracy\"])"
   ]
  },
  {
   "cell_type": "code",
   "execution_count": null,
   "metadata": {
    "_kg_hide-output": true,
    "execution": {
     "iopub.status.busy": "2022-01-12T10:46:56.645544Z",
     "iopub.status.idle": "2022-01-12T10:46:56.64601Z"
    },
    "papermill": {
     "duration": 3.577243,
     "end_time": "2021-04-09T10:51:07.636865",
     "exception": false,
     "start_time": "2021-04-09T10:51:04.059622",
     "status": "completed"
    },
    "tags": []
   },
   "outputs": [],
   "source": [
    "model.summary()"
   ]
  },
  {
   "cell_type": "code",
   "execution_count": null,
   "metadata": {
    "execution": {
     "iopub.status.busy": "2022-01-12T10:46:56.647993Z",
     "iopub.status.idle": "2022-01-12T10:46:56.648717Z"
    },
    "papermill": {
     "duration": 1662.215206,
     "end_time": "2021-04-09T11:18:53.599059",
     "exception": false,
     "start_time": "2021-04-09T10:51:11.383853",
     "status": "completed"
    },
    "tags": []
   },
   "outputs": [],
   "source": [
    "history = model.fit(\n",
    "        train_datagen,\n",
    "        steps_per_epoch = train_datagen.samples//train_datagen.batch_size,\n",
    "        validation_data = test_datagen, \n",
    "        validation_steps = test_datagen.samples//test_datagen.batch_size,\n",
    "        epochs = EPOCHS,\n",
    "        callbacks = callbacks_list\n",
    ")"
   ]
  },
  {
   "cell_type": "code",
   "execution_count": null,
   "metadata": {
    "execution": {
     "iopub.status.busy": "2022-01-12T10:46:56.650046Z",
     "iopub.status.idle": "2022-01-12T10:46:56.6515Z"
    },
    "papermill": {
     "duration": 7.508574,
     "end_time": "2021-04-09T11:19:08.554551",
     "exception": false,
     "start_time": "2021-04-09T11:19:01.045977",
     "status": "completed"
    },
    "tags": []
   },
   "outputs": [],
   "source": [
    "#model.save('../working/model_step2.hdf5')\n",
    "model.load_weights('best_model.hdf5') "
   ]
  },
  {
   "cell_type": "code",
   "execution_count": null,
   "metadata": {
    "execution": {
     "iopub.status.busy": "2022-01-12T10:46:56.65387Z",
     "iopub.status.idle": "2022-01-12T10:46:56.654737Z"
    },
    "papermill": {
     "duration": 34.752233,
     "end_time": "2021-04-09T11:19:50.519246",
     "exception": false,
     "start_time": "2021-04-09T11:19:15.767013",
     "status": "completed"
    },
    "tags": []
   },
   "outputs": [],
   "source": [
    "scores = model.evaluate(test_datagen, verbose=1)\n",
    "print(\"Accuracy: %.2f%%\" % (scores[1]*100))"
   ]
  },
  {
   "cell_type": "code",
   "execution_count": null,
   "metadata": {
    "execution": {
     "iopub.status.busy": "2022-01-12T10:46:56.656507Z",
     "iopub.status.idle": "2022-01-12T10:46:56.657577Z"
    },
    "papermill": {
     "duration": 7.577786,
     "end_time": "2021-04-09T11:20:05.166518",
     "exception": false,
     "start_time": "2021-04-09T11:19:57.588732",
     "status": "completed"
    },
    "tags": []
   },
   "outputs": [],
   "source": [
    "plot_history(history)"
   ]
  },
  {
   "cell_type": "markdown",
   "metadata": {
    "papermill": {
     "duration": 6.994754,
     "end_time": "2021-04-09T11:20:19.871415",
     "exception": false,
     "start_time": "2021-04-09T11:20:12.876661",
     "status": "completed"
    },
    "tags": []
   },
   "source": [
    "## Step 3\n",
    "### defrost three quarters of the pre-trained model weights"
   ]
  },
  {
   "cell_type": "code",
   "execution_count": null,
   "metadata": {
    "execution": {
     "iopub.status.busy": "2022-01-12T10:46:56.659835Z",
     "iopub.status.idle": "2022-01-12T10:46:56.660781Z"
    },
    "papermill": {
     "duration": 7.346656,
     "end_time": "2021-04-09T11:20:34.642345",
     "exception": false,
     "start_time": "2021-04-09T11:20:27.295689",
     "status": "completed"
    },
    "tags": []
   },
   "outputs": [],
   "source": [
    "base_model.trainable = True\n",
    "# Fine-tune from this layer onwards\n",
    "fine_tune_at = len(base_model.layers)//4\n",
    "\n",
    "# Freeze all the layers before the `fine_tune_at` layer\n",
    "for layer in base_model.layers[:fine_tune_at]:\n",
    "    layer.trainable =  False"
   ]
  },
  {
   "cell_type": "code",
   "execution_count": null,
   "metadata": {
    "execution": {
     "iopub.status.busy": "2022-01-12T10:46:56.663748Z",
     "iopub.status.idle": "2022-01-12T10:46:56.664203Z"
    },
    "papermill": {
     "duration": 7.054044,
     "end_time": "2021-04-09T11:20:49.461785",
     "exception": false,
     "start_time": "2021-04-09T11:20:42.407741",
     "status": "completed"
    },
    "tags": []
   },
   "outputs": [],
   "source": [
    "LR=0.00001\n",
    "\n",
    "model.compile(loss=\"categorical_crossentropy\", \n",
    "              optimizer=optimizers.Adam(lr=LR), \n",
    "              metrics=[\"accuracy\"])"
   ]
  },
  {
   "cell_type": "code",
   "execution_count": null,
   "metadata": {
    "_kg_hide-output": true,
    "execution": {
     "iopub.status.busy": "2022-01-12T10:46:56.665675Z",
     "iopub.status.idle": "2022-01-12T10:46:56.666302Z"
    },
    "papermill": {
     "duration": 7.129403,
     "end_time": "2021-04-09T11:21:03.83327",
     "exception": false,
     "start_time": "2021-04-09T11:20:56.703867",
     "status": "completed"
    },
    "tags": []
   },
   "outputs": [],
   "source": [
    "model.summary()"
   ]
  },
  {
   "cell_type": "code",
   "execution_count": null,
   "metadata": {
    "execution": {
     "iopub.status.busy": "2022-01-12T10:46:56.667511Z",
     "iopub.status.idle": "2022-01-12T10:46:56.668223Z"
    },
    "papermill": {
     "duration": 1698.8222,
     "end_time": "2021-04-09T11:49:29.951314",
     "exception": false,
     "start_time": "2021-04-09T11:21:11.129114",
     "status": "completed"
    },
    "tags": []
   },
   "outputs": [],
   "source": [
    "history = model.fit(\n",
    "        train_datagen,\n",
    "        steps_per_epoch = train_datagen.samples//train_datagen.batch_size,\n",
    "        validation_data = test_datagen, \n",
    "        validation_steps = test_datagen.samples//test_datagen.batch_size,\n",
    "        epochs = EPOCHS,\n",
    "        callbacks = callbacks_list\n",
    ")"
   ]
  },
  {
   "cell_type": "code",
   "execution_count": null,
   "metadata": {
    "execution": {
     "iopub.status.busy": "2022-01-12T10:46:56.670497Z",
     "iopub.status.idle": "2022-01-12T10:46:56.671504Z"
    },
    "papermill": {
     "duration": 11.451453,
     "end_time": "2021-04-09T11:49:52.33207",
     "exception": false,
     "start_time": "2021-04-09T11:49:40.880617",
     "status": "completed"
    },
    "tags": []
   },
   "outputs": [],
   "source": [
    "#model.save('../working/model_step3.hdf5')\n",
    "model.load_weights('best_model.hdf5')"
   ]
  },
  {
   "cell_type": "code",
   "execution_count": null,
   "metadata": {
    "execution": {
     "iopub.status.busy": "2022-01-12T10:46:56.67404Z",
     "iopub.status.idle": "2022-01-12T10:46:56.674691Z"
    },
    "papermill": {
     "duration": 38.258791,
     "end_time": "2021-04-09T11:50:41.250727",
     "exception": false,
     "start_time": "2021-04-09T11:50:02.991936",
     "status": "completed"
    },
    "tags": []
   },
   "outputs": [],
   "source": [
    "scores = model.evaluate(test_datagen, verbose=1)\n",
    "print(\"Accuracy: %.2f%%\" % (scores[1]*100))"
   ]
  },
  {
   "cell_type": "code",
   "execution_count": null,
   "metadata": {
    "execution": {
     "iopub.status.busy": "2022-01-12T10:46:56.676343Z",
     "iopub.status.idle": "2022-01-12T10:46:56.677046Z"
    },
    "papermill": {
     "duration": 11.320413,
     "end_time": "2021-04-09T11:51:03.973564",
     "exception": false,
     "start_time": "2021-04-09T11:50:52.653151",
     "status": "completed"
    },
    "tags": []
   },
   "outputs": [],
   "source": [
    "plot_history(history)"
   ]
  },
  {
   "cell_type": "markdown",
   "metadata": {
    "papermill": {
     "duration": 11.276821,
     "end_time": "2021-04-09T11:51:26.035534",
     "exception": false,
     "start_time": "2021-04-09T11:51:14.758713",
     "status": "completed"
    },
    "tags": []
   },
   "source": [
    "## Step 4\n",
    "### complete weights defrosting"
   ]
  },
  {
   "cell_type": "code",
   "execution_count": null,
   "metadata": {
    "execution": {
     "iopub.status.busy": "2022-01-12T10:46:56.678508Z",
     "iopub.status.idle": "2022-01-12T10:46:56.678946Z"
    },
    "papermill": {
     "duration": 10.908487,
     "end_time": "2021-04-09T11:51:48.026699",
     "exception": false,
     "start_time": "2021-04-09T11:51:37.118212",
     "status": "completed"
    },
    "tags": []
   },
   "outputs": [],
   "source": [
    "base_model.trainable = True\n",
    "LR=0.000001\n",
    "#EPOCHS = 10\n",
    "\n",
    "model.compile(loss=\"categorical_crossentropy\", \n",
    "              optimizer=optimizers.Adam(lr=LR), \n",
    "              metrics=[\"accuracy\"])"
   ]
  },
  {
   "cell_type": "code",
   "execution_count": null,
   "metadata": {
    "execution": {
     "iopub.status.busy": "2022-01-12T10:46:56.680918Z",
     "iopub.status.idle": "2022-01-12T10:46:56.681499Z"
    },
    "papermill": {
     "duration": 1784.912466,
     "end_time": "2021-04-09T12:21:44.16598",
     "exception": false,
     "start_time": "2021-04-09T11:51:59.253514",
     "status": "completed"
    },
    "tags": []
   },
   "outputs": [],
   "source": [
    "history = model.fit(\n",
    "        train_datagen,\n",
    "        steps_per_epoch = train_datagen.samples//train_datagen.batch_size,\n",
    "        validation_data = test_datagen, \n",
    "        validation_steps = test_datagen.samples//test_datagen.batch_size,\n",
    "        epochs = EPOCHS,\n",
    "        callbacks = callbacks_list\n",
    ")"
   ]
  },
  {
   "cell_type": "code",
   "execution_count": null,
   "metadata": {
    "execution": {
     "iopub.status.busy": "2022-01-12T10:46:56.682965Z",
     "iopub.status.idle": "2022-01-12T10:46:56.683573Z"
    },
    "papermill": {
     "duration": 15.109458,
     "end_time": "2021-04-09T12:22:13.832908",
     "exception": false,
     "start_time": "2021-04-09T12:21:58.72345",
     "status": "completed"
    },
    "tags": []
   },
   "outputs": [],
   "source": [
    "#model.save('../working/model_step4.hdf5') \n",
    "model.load_weights('best_model.hdf5') "
   ]
  },
  {
   "cell_type": "code",
   "execution_count": null,
   "metadata": {
    "execution": {
     "iopub.status.busy": "2022-01-12T10:46:56.684642Z",
     "iopub.status.idle": "2022-01-12T10:46:56.685094Z"
    },
    "papermill": {
     "duration": 42.495587,
     "end_time": "2021-04-09T12:23:10.576502",
     "exception": false,
     "start_time": "2021-04-09T12:22:28.080915",
     "status": "completed"
    },
    "tags": []
   },
   "outputs": [],
   "source": [
    "scores = model.evaluate(test_datagen, verbose=1)\n",
    "print(\"Accuracy: %.2f%%\" % (scores[1]*100))"
   ]
  },
  {
   "cell_type": "code",
   "execution_count": null,
   "metadata": {
    "execution": {
     "iopub.status.busy": "2022-01-12T10:46:56.687138Z",
     "iopub.status.idle": "2022-01-12T10:46:56.688241Z"
    },
    "papermill": {
     "duration": 14.628365,
     "end_time": "2021-04-09T12:23:40.416895",
     "exception": false,
     "start_time": "2021-04-09T12:23:25.78853",
     "status": "completed"
    },
    "tags": []
   },
   "outputs": [],
   "source": [
    "plot_history(history)"
   ]
  },
  {
   "cell_type": "markdown",
   "metadata": {
    "papermill": {
     "duration": 14.46425,
     "end_time": "2021-04-09T12:24:09.826129",
     "exception": false,
     "start_time": "2021-04-09T12:23:55.361879",
     "status": "completed"
    },
    "tags": []
   },
   "source": [
    "# Prediction after fine-tuning"
   ]
  },
  {
   "cell_type": "code",
   "execution_count": null,
   "metadata": {
    "execution": {
     "iopub.execute_input": "2022-01-12T10:48:11.30031Z",
     "iopub.status.busy": "2022-01-12T10:48:11.299697Z",
     "iopub.status.idle": "2022-01-12T10:48:11.342558Z",
     "shell.execute_reply": "2022-01-12T10:48:11.340242Z",
     "shell.execute_reply.started": "2022-01-12T10:48:11.300259Z"
    },
    "papermill": {
     "duration": 29.500599,
     "end_time": "2021-04-09T12:24:54.266015",
     "exception": false,
     "start_time": "2021-04-09T12:24:24.765416",
     "status": "completed"
    },
    "tags": []
   },
   "outputs": [],
   "source": [
    "test_gen = ImageDataAugmentor(rescale=1./255)\n",
    "test_sub_generator = test_gen.flow_from_dataframe(dataframe=sample_submission,\n",
    "                                            directory=DATA_PATH+'test/test_upload/',\n",
    "                                            x_col=\"Id\",\n",
    "                                            y_col=None,\n",
    "                                            shuffle=False,\n",
    "                                            class_mode=None,\n",
    "                                            target_size=(IMG_SIZE, IMG_SIZE),\n",
    "                                            batch_size=BATCH_SIZE)"
   ]
  },
  {
   "cell_type": "code",
   "execution_count": null,
   "metadata": {
    "execution": {
     "iopub.status.busy": "2022-01-12T10:46:56.692478Z",
     "iopub.status.idle": "2022-01-12T10:46:56.692956Z"
    },
    "papermill": {
     "duration": 113.834209,
     "end_time": "2021-04-09T12:27:02.514037",
     "exception": false,
     "start_time": "2021-04-09T12:25:08.679828",
     "status": "completed"
    },
    "tags": []
   },
   "outputs": [],
   "source": [
    "test_sub_generator.reset()\n",
    "predictions = model.predict(test_sub_generator, \n",
    "                                      steps=len(test_sub_generator), \n",
    "                                      verbose=1) \n",
    "predictions = np.argmax(predictions, axis=-1) #multiple categories\n",
    "label_map = (train_datagen.class_indices)\n",
    "label_map = dict((v,k) for k,v in label_map.items()) #flip k,v\n",
    "predictions = [label_map[k] for k in predictions]"
   ]
  },
  {
   "cell_type": "code",
   "execution_count": null,
   "metadata": {
    "execution": {
     "iopub.status.busy": "2022-01-12T10:46:56.694137Z",
     "iopub.status.idle": "2022-01-12T10:46:56.694643Z"
    },
    "papermill": {
     "duration": 14.907176,
     "end_time": "2021-04-09T12:27:32.258516",
     "exception": false,
     "start_time": "2021-04-09T12:27:17.35134",
     "status": "completed"
    },
    "tags": []
   },
   "outputs": [],
   "source": [
    "filenames_with_dir=test_sub_generator.filenames\n",
    "submission = pd.DataFrame({'Id':filenames_with_dir, 'Category':predictions}, \n",
    "                          columns=['Id', 'Category'])\n",
    "submission['Id'] = submission['Id'].replace('test_upload/','')\n",
    "\n",
    "submission.to_csv('submission.csv', index=False)"
   ]
  },
  {
   "cell_type": "markdown",
   "metadata": {
    "papermill": {
     "duration": 14.981819,
     "end_time": "2021-04-09T12:28:02.396266",
     "exception": false,
     "start_time": "2021-04-09T12:27:47.414447",
     "status": "completed"
    },
    "tags": []
   },
   "source": [
    "## Step 5. IMG_SIZE rise"
   ]
  },
  {
   "cell_type": "code",
   "execution_count": null,
   "metadata": {
    "execution": {
     "iopub.status.busy": "2022-01-12T10:46:56.696424Z",
     "iopub.status.idle": "2022-01-12T10:46:56.696969Z"
    },
    "papermill": {
     "duration": 14.696281,
     "end_time": "2021-04-09T12:28:32.16462",
     "exception": false,
     "start_time": "2021-04-09T12:28:17.468339",
     "status": "completed"
    },
    "tags": []
   },
   "outputs": [],
   "source": [
    "EPOCHS               = 6\n",
    "BATCH_SIZE           = 2 \n",
    "LR                   = 1e-5\n",
    "\n",
    "IMG_SIZE             = 512\n",
    "IMG_CHANNELS         = 3\n",
    "input_shape          = (IMG_SIZE, IMG_SIZE, IMG_CHANNELS)"
   ]
  },
  {
   "cell_type": "code",
   "execution_count": null,
   "metadata": {
    "execution": {
     "iopub.status.busy": "2022-01-12T10:46:56.699401Z",
     "iopub.status.idle": "2022-01-12T10:46:56.699907Z"
    },
    "papermill": {
     "duration": 14.577092,
     "end_time": "2021-04-09T12:29:01.908532",
     "exception": false,
     "start_time": "2021-04-09T12:28:47.33144",
     "status": "completed"
    },
    "tags": []
   },
   "outputs": [],
   "source": [
    "AUGMENTATIONS = A.Compose([\n",
    "    #A.RandomBrightness(limit=0.2, p=0.5),\n",
    "    A.ShiftScaleRotate(shift_limit=0.0625, \n",
    "                       scale_limit=0.01, \n",
    "                       interpolation=1, \n",
    "                       border_mode=4, \n",
    "                       rotate_limit=20, \n",
    "                       p=.75),\n",
    "    A.HorizontalFlip(p=0.5),\n",
    "    #A.HueSaturationValue(p=0.5)\n",
    "])"
   ]
  },
  {
   "cell_type": "code",
   "execution_count": null,
   "metadata": {
    "execution": {
     "iopub.status.busy": "2022-01-12T10:46:56.702118Z",
     "iopub.status.idle": "2022-01-12T10:46:56.702666Z"
    },
    "papermill": {
     "duration": 17.867832,
     "end_time": "2021-04-09T12:29:34.908287",
     "exception": false,
     "start_time": "2021-04-09T12:29:17.040455",
     "status": "completed"
    },
    "tags": []
   },
   "outputs": [],
   "source": [
    "train_gen = ImageDataAugmentor(rescale=1./255,\n",
    "                        augment=AUGMENTATIONS, \n",
    "                        seed=RANDOM_SEED,\n",
    "                        validation_split=VAL_SPLIT\n",
    "                       )\n",
    "\n",
    "train_datagen = train_gen.flow_from_directory(DATA_PATH+'train/train', \n",
    "                                            class_mode='categorical', \n",
    "                                            batch_size=BATCH_SIZE, \n",
    "                                            target_size=(IMG_SIZE, IMG_SIZE),\n",
    "                                            shuffle=True,\n",
    "                                            subset='training'\n",
    "                                           )\n",
    "test_datagen = train_gen.flow_from_directory(DATA_PATH+'train/train', \n",
    "                                             class_mode='categorical', \n",
    "                                             batch_size=BATCH_SIZE, \n",
    "                                             target_size=(IMG_SIZE, IMG_SIZE),\n",
    "                                             shuffle=True,\n",
    "                                             subset='validation'\n",
    "                                            )\n",
    "\n",
    "test_gen = ImageDataAugmentor(rescale=1./255)\n",
    "test_sub_generator = test_gen.flow_from_dataframe(dataframe=sample_submission,\n",
    "                                            directory=DATA_PATH+'test/test_upload/',\n",
    "                                            x_col=\"Id\",\n",
    "                                            y_col=None,\n",
    "                                            shuffle=False,\n",
    "                                            class_mode=None,\n",
    "                                            target_size=(IMG_SIZE, IMG_SIZE),\n",
    "                                            batch_size=BATCH_SIZE)"
   ]
  },
  {
   "cell_type": "code",
   "execution_count": null,
   "metadata": {
    "execution": {
     "iopub.status.busy": "2022-01-12T10:46:56.704096Z",
     "iopub.status.idle": "2022-01-12T10:46:56.704603Z"
    },
    "papermill": {
     "duration": 16.452892,
     "end_time": "2021-04-09T12:30:06.56891",
     "exception": false,
     "start_time": "2021-04-09T12:29:50.116018",
     "status": "completed"
    },
    "tags": []
   },
   "outputs": [],
   "source": [
    "# Re-create the network with the new size of the input data\n",
    "\n",
    "#base_model = Xception(weights='imagenet', \n",
    "#                            include_top=False, \n",
    "#                            input_shape = input_shape)\n",
    "\n",
    "#base_model = InceptionV3(weights='imagenet', \n",
    "#                            include_top=False, \n",
    "#                            input_shape = input_shape)\n",
    "\n",
    "\n",
    "base_model = efn.EfficientNetB5(weights='imagenet', \n",
    "                            include_top=False, \n",
    "                            input_shape = input_shape)"
   ]
  },
  {
   "cell_type": "code",
   "execution_count": null,
   "metadata": {
    "execution": {
     "iopub.status.busy": "2022-01-12T10:46:56.70606Z",
     "iopub.status.idle": "2022-01-12T10:46:56.707338Z"
    },
    "papermill": {
     "duration": 15.02383,
     "end_time": "2021-04-09T12:30:36.608479",
     "exception": false,
     "start_time": "2021-04-09T12:30:21.584649",
     "status": "completed"
    },
    "tags": []
   },
   "outputs": [],
   "source": [
    "base_model.trainable = True"
   ]
  },
  {
   "cell_type": "code",
   "execution_count": null,
   "metadata": {
    "execution": {
     "iopub.status.busy": "2022-01-12T10:46:56.708411Z",
     "iopub.status.idle": "2022-01-12T10:46:56.708864Z"
    },
    "papermill": {
     "duration": 15.139337,
     "end_time": "2021-04-09T12:31:06.856041",
     "exception": false,
     "start_time": "2021-04-09T12:30:51.716704",
     "status": "completed"
    },
    "tags": []
   },
   "outputs": [],
   "source": [
    "model.compile(loss=\"categorical_crossentropy\", \n",
    "              optimizer=optimizers.Adam(lr=LR), \n",
    "              metrics=[\"accuracy\"])\n",
    "model.load_weights('best_model.hdf5')"
   ]
  },
  {
   "cell_type": "code",
   "execution_count": null,
   "metadata": {
    "execution": {
     "iopub.status.busy": "2022-01-12T10:46:56.709915Z",
     "iopub.status.idle": "2022-01-12T10:46:56.710353Z"
    },
    "papermill": {
     "duration": 3723.748037,
     "end_time": "2021-04-09T13:33:25.725195",
     "exception": false,
     "start_time": "2021-04-09T12:31:21.977158",
     "status": "completed"
    },
    "tags": []
   },
   "outputs": [],
   "source": [
    "history = model.fit(\n",
    "        train_datagen,\n",
    "        steps_per_epoch = train_datagen.samples//train_datagen.batch_size,\n",
    "        validation_data = test_datagen, \n",
    "        validation_steps = test_datagen.samples//test_datagen.batch_size,\n",
    "        epochs = EPOCHS,\n",
    "        callbacks = callbacks_list\n",
    ")"
   ]
  },
  {
   "cell_type": "code",
   "execution_count": null,
   "metadata": {
    "execution": {
     "iopub.status.busy": "2022-01-12T10:46:56.711457Z",
     "iopub.status.idle": "2022-01-12T10:46:56.711934Z"
    },
    "papermill": {
     "duration": 25.778075,
     "end_time": "2021-04-09T13:34:17.257412",
     "exception": false,
     "start_time": "2021-04-09T13:33:51.479337",
     "status": "completed"
    },
    "tags": []
   },
   "outputs": [],
   "source": [
    "#!find /kaggle/working -name \"*.hdf5\" -type f -delete"
   ]
  },
  {
   "cell_type": "code",
   "execution_count": null,
   "metadata": {
    "execution": {
     "iopub.status.busy": "2022-01-12T10:46:56.713752Z",
     "iopub.status.idle": "2022-01-12T10:46:56.714259Z"
    },
    "papermill": {
     "duration": 70.092272,
     "end_time": "2021-04-09T13:35:53.182329",
     "exception": false,
     "start_time": "2021-04-09T13:34:43.090057",
     "status": "completed"
    },
    "tags": []
   },
   "outputs": [],
   "source": [
    "scores = model.evaluate(test_datagen, verbose=1)\n",
    "print(\"Accuracy: %.2f%%\" % (scores[1]*100))"
   ]
  },
  {
   "cell_type": "code",
   "execution_count": null,
   "metadata": {
    "execution": {
     "iopub.status.busy": "2022-01-12T10:46:56.716017Z",
     "iopub.status.idle": "2022-01-12T10:46:56.716608Z"
    },
    "papermill": {
     "duration": 26.479572,
     "end_time": "2021-04-09T13:36:45.623823",
     "exception": false,
     "start_time": "2021-04-09T13:36:19.144251",
     "status": "completed"
    },
    "tags": []
   },
   "outputs": [],
   "source": [
    "plot_history(history)"
   ]
  },
  {
   "cell_type": "markdown",
   "metadata": {
    "papermill": {
     "duration": 25.098283,
     "end_time": "2021-04-09T13:37:36.595326",
     "exception": false,
     "start_time": "2021-04-09T13:37:11.497043",
     "status": "completed"
    },
    "tags": []
   },
   "source": [
    "# Prediction after IMG_SIZE rise"
   ]
  },
  {
   "cell_type": "code",
   "execution_count": null,
   "metadata": {
    "execution": {
     "iopub.status.busy": "2022-01-12T10:46:56.717912Z",
     "iopub.status.idle": "2022-01-12T10:46:56.718444Z"
    },
    "papermill": {
     "duration": 134.957594,
     "end_time": "2021-04-09T13:40:17.672153",
     "exception": false,
     "start_time": "2021-04-09T13:38:02.714559",
     "status": "completed"
    },
    "tags": []
   },
   "outputs": [],
   "source": [
    "test_sub_generator.reset()\n",
    "predictions = model.predict(test_sub_generator, steps=len(test_sub_generator), verbose=1) \n",
    "predictions = np.argmax(predictions, axis=-1) #multiple categories\n",
    "label_map = (train_datagen.class_indices)\n",
    "label_map = dict((v,k) for k,v in label_map.items()) #flip k,v\n",
    "predictions = [label_map[k] for k in predictions]"
   ]
  },
  {
   "cell_type": "code",
   "execution_count": null,
   "metadata": {
    "execution": {
     "iopub.status.busy": "2022-01-12T10:46:56.719516Z",
     "iopub.status.idle": "2022-01-12T10:46:56.719969Z"
    },
    "papermill": {
     "duration": 26.644497,
     "end_time": "2021-04-09T13:41:11.104648",
     "exception": false,
     "start_time": "2021-04-09T13:40:44.460151",
     "status": "completed"
    },
    "tags": []
   },
   "outputs": [],
   "source": [
    "filenames_with_dir=test_sub_generator.filenames\n",
    "submission = pd.DataFrame({'Id':filenames_with_dir, 'Category':predictions}, columns=['Id', 'Category'])\n",
    "submission['Id'] = submission['Id'].replace('test_upload/','')"
   ]
  },
  {
   "cell_type": "code",
   "execution_count": null,
   "metadata": {
    "execution": {
     "iopub.status.busy": "2022-01-12T10:46:56.721528Z",
     "iopub.status.idle": "2022-01-12T10:46:56.721996Z"
    },
    "papermill": {
     "duration": 26.27944,
     "end_time": "2021-04-09T13:42:03.564355",
     "exception": false,
     "start_time": "2021-04-09T13:41:37.284915",
     "status": "completed"
    },
    "tags": []
   },
   "outputs": [],
   "source": [
    "submission.to_csv('submission_IMG_SIZE.csv', index=False)"
   ]
  },
  {
   "cell_type": "markdown",
   "metadata": {
    "papermill": {
     "duration": 26.102396,
     "end_time": "2021-04-09T13:42:56.204466",
     "exception": false,
     "start_time": "2021-04-09T13:42:30.10207",
     "status": "completed"
    },
    "tags": []
   },
   "source": [
    "# Test Time Augmentation (TTA)"
   ]
  },
  {
   "cell_type": "markdown",
   "metadata": {
    "papermill": {
     "duration": 26.405058,
     "end_time": "2021-04-09T13:43:49.530446",
     "exception": false,
     "start_time": "2021-04-09T13:43:23.125388",
     "status": "completed"
    },
    "tags": []
   },
   "source": [
    "Augment test images.         \n",
    "Make several predictions of one picture in a different way.         \n",
    "=> The final prediction is obtained by taking the average of several predictions."
   ]
  },
  {
   "cell_type": "code",
   "execution_count": null,
   "metadata": {
    "execution": {
     "iopub.status.busy": "2022-01-12T10:46:56.724113Z",
     "iopub.status.idle": "2022-01-12T10:46:56.72461Z"
    },
    "papermill": {
     "duration": 26.049634,
     "end_time": "2021-04-09T13:44:42.64527",
     "exception": false,
     "start_time": "2021-04-09T13:44:16.595636",
     "status": "completed"
    },
    "tags": []
   },
   "outputs": [],
   "source": [
    "model.load_weights('best_model.hdf5')"
   ]
  },
  {
   "cell_type": "code",
   "execution_count": null,
   "metadata": {
    "execution": {
     "iopub.status.busy": "2022-01-12T10:46:56.726082Z",
     "iopub.status.idle": "2022-01-12T10:46:56.726576Z"
    },
    "papermill": {
     "duration": 26.513835,
     "end_time": "2021-04-09T13:45:35.234623",
     "exception": false,
     "start_time": "2021-04-09T13:45:08.720788",
     "status": "completed"
    },
    "tags": []
   },
   "outputs": [],
   "source": [
    "AUGMENTATIONS = A.Compose([\n",
    "    A.GaussianBlur(p=0.05),\n",
    "    A.RandomBrightness(limit=0.2, p=0.5),\n",
    "    A.ShiftScaleRotate(shift_limit=0.0625, \n",
    "                       scale_limit=0.01, \n",
    "                       interpolation=1, \n",
    "                       border_mode=4, \n",
    "                       rotate_limit=20, \n",
    "                       p=.75),\n",
    "    A.OneOf([\n",
    "        A.RandomBrightnessContrast(brightness_limit=0.3, \n",
    "                                                contrast_limit=0.3),\n",
    "        A.RandomBrightnessContrast(brightness_limit=0.1, \n",
    "                                                contrast_limit=0.1)],\n",
    "        p=0.5),\n",
    "    A.HorizontalFlip(p=0.5),\n",
    "    A.HueSaturationValue(p=0.5),\n",
    "    A.RGBShift(p=0.5),\n",
    "    A.FancyPCA(alpha=0.1, \n",
    "               always_apply=False, \n",
    "               p=0.5),\n",
    "    A.Resize(IMG_SIZE, IMG_SIZE)\n",
    "])"
   ]
  },
  {
   "cell_type": "code",
   "execution_count": null,
   "metadata": {
    "execution": {
     "iopub.status.busy": "2022-01-12T10:46:56.727633Z",
     "iopub.status.idle": "2022-01-12T10:46:56.728064Z"
    },
    "papermill": {
     "duration": 26.617922,
     "end_time": "2021-04-09T13:46:28.343409",
     "exception": false,
     "start_time": "2021-04-09T13:46:01.725487",
     "status": "completed"
    },
    "tags": []
   },
   "outputs": [],
   "source": [
    "test_gen = ImageDataAugmentor(rescale=1./255,\n",
    "                        augment=AUGMENTATIONS, \n",
    "                        seed=RANDOM_SEED,\n",
    "                        validation_split=VAL_SPLIT\n",
    "                       )\n",
    "\n",
    "test_sub_generator = test_gen.flow_from_dataframe(dataframe=sample_submission,\n",
    "                                      directory=DATA_PATH+'test/test_upload',\n",
    "                                      x_col=\"Id\",\n",
    "                                      y_col=None,\n",
    "                                      target_size=(IMG_SIZE, IMG_SIZE),\n",
    "                                      batch_size=BATCH_SIZE,\n",
    "                                      class_mode=None,\n",
    "                                      shuffle=False)"
   ]
  },
  {
   "cell_type": "code",
   "execution_count": null,
   "metadata": {
    "execution": {
     "iopub.status.busy": "2022-01-12T10:46:56.729233Z",
     "iopub.status.idle": "2022-01-12T10:46:56.729712Z"
    },
    "papermill": {
     "duration": 1137.704721,
     "end_time": "2021-04-09T14:05:52.216546",
     "exception": false,
     "start_time": "2021-04-09T13:46:54.511825",
     "status": "completed"
    },
    "tags": []
   },
   "outputs": [],
   "source": [
    "tta_steps = 10\n",
    "predictions = []\n",
    "\n",
    "for i in range(tta_steps):\n",
    "    preds = model.predict(test_sub_generator, verbose=1) \n",
    "    predictions.append(preds)\n",
    "\n",
    "pred = np.mean(predictions, axis=0)"
   ]
  },
  {
   "cell_type": "code",
   "execution_count": null,
   "metadata": {
    "execution": {
     "iopub.status.busy": "2022-01-12T10:46:56.730664Z",
     "iopub.status.idle": "2022-01-12T10:46:56.73127Z"
    },
    "papermill": {
     "duration": 31.21059,
     "end_time": "2021-04-09T14:06:54.663591",
     "exception": false,
     "start_time": "2021-04-09T14:06:23.453001",
     "status": "completed"
    },
    "tags": []
   },
   "outputs": [],
   "source": [
    "predictions = np.argmax(pred, axis=-1) #multiple categories\n",
    "label_map = (train_datagen.class_indices)\n",
    "label_map = dict((v,k) for k,v in label_map.items()) #flip k,v\n",
    "predictions = [label_map[k] for k in predictions]\n",
    "filenames_with_dir=test_sub_generator.filenames\n",
    "submission = pd.DataFrame({'Id':filenames_with_dir, 'Category':predictions}, \n",
    "                          columns=['Id', 'Category'])\n",
    "\n",
    "submission['Id'] = submission['Id'].replace('test_upload/','')"
   ]
  },
  {
   "cell_type": "code",
   "execution_count": null,
   "metadata": {
    "execution": {
     "iopub.execute_input": "2022-01-12T10:48:05.117539Z",
     "iopub.status.busy": "2022-01-12T10:48:05.11712Z",
     "iopub.status.idle": "2022-01-12T10:48:05.148988Z",
     "shell.execute_reply": "2022-01-12T10:48:05.147442Z",
     "shell.execute_reply.started": "2022-01-12T10:48:05.117506Z"
    },
    "papermill": {
     "duration": 75.208709,
     "end_time": "2021-04-09T14:08:41.071212",
     "exception": false,
     "start_time": "2021-04-09T14:07:25.862503",
     "status": "completed"
    },
    "tags": []
   },
   "outputs": [],
   "source": [
    "scores = model.evaluate(test_datagen, verbose=1)\n",
    "print(\"Accuracy: %.2f%%\" % (scores[1]*100))"
   ]
  },
  {
   "cell_type": "code",
   "execution_count": null,
   "metadata": {
    "execution": {
     "iopub.execute_input": "2022-01-12T10:48:01.730441Z",
     "iopub.status.busy": "2022-01-12T10:48:01.730027Z",
     "iopub.status.idle": "2022-01-12T10:48:01.758583Z",
     "shell.execute_reply": "2022-01-12T10:48:01.756428Z",
     "shell.execute_reply.started": "2022-01-12T10:48:01.730401Z"
    },
    "papermill": {
     "duration": 30.649868,
     "end_time": "2021-04-09T14:09:42.858365",
     "exception": false,
     "start_time": "2021-04-09T14:09:12.208497",
     "status": "completed"
    },
    "tags": []
   },
   "outputs": [],
   "source": [
    "submission.to_csv('submission_TTA.csv', index=False)"
   ]
  },
  {
   "cell_type": "code",
   "execution_count": null,
   "metadata": {
    "execution": {
     "iopub.status.busy": "2022-01-12T10:46:56.73545Z",
     "iopub.status.idle": "2022-01-12T10:46:56.735865Z"
    },
    "papermill": {
     "duration": 30.871757,
     "end_time": "2021-04-09T14:10:44.626486",
     "exception": false,
     "start_time": "2021-04-09T14:10:13.754729",
     "status": "completed"
    },
    "tags": []
   },
   "outputs": [],
   "source": [
    "#Удалить папку с распакованными картинками\n",
    "#import shutil\n",
    "#shutil.rmtree(PATH)"
   ]
  },
  {
   "cell_type": "markdown",
   "metadata": {
    "papermill": {
     "duration": 31.095658,
     "end_time": "2021-04-09T14:11:46.717385",
     "exception": false,
     "start_time": "2021-04-09T14:11:15.621727",
     "status": "completed"
    },
    "tags": []
   },
   "source": [
    "# Model efficiency summary          \n",
    "         \n",
    "Fine-tuning **Xception**         \n",
    "0% weights defrosting accuracy 59.25%      \n",
    "50% weights defrosting accuracy 91.88%        \n",
    "75% weights defrosting accuracy 93.99%        \n",
    "100% weights defrosting accuracy 93.99%       \n",
    "image size rising accuracy 96.82%         \n",
    "TTA accuracy **96.52%**       \n",
    "          \n",
    "Fine-tuning **InceptionV3**       \n",
    "0% weights defrosting accuracy 61.31%      \n",
    "50% weights defrosting accuracy 90.55%        \n",
    "75% weights defrosting accuracy 93.86%        \n",
    "100% weights defrosting accuracy 93.69%       \n",
    "image size rising accuracy 94.68%         \n",
    "TTA accuracy **%**          \n",
    "\n",
    "Fine-tuning **EfficientNetB5**       \n",
    "0% weights defrosting accuracy 73,55%      \n",
    "50% weights defrosting accuracy 93.69%        \n",
    "75% weights defrosting accuracy 94.72%        \n",
    "100% weights defrosting accuracy 95.02%       \n",
    "image size rising accuracy 97.25%         \n",
    "TTA accuracy **%**     \n",
    "          \n"
   ]
  },
  {
   "cell_type": "markdown",
   "metadata": {
    "papermill": {
     "duration": 30.930598,
     "end_time": "2021-04-09T14:12:48.290532",
     "exception": false,
     "start_time": "2021-04-09T14:12:17.359934",
     "status": "completed"
    },
    "tags": []
   },
   "source": [
    "# Итоги             \n",
    "                    \n",
    "В проекте применены:     \n",
    "- transfer learning и fine-tuning (обучение головы -> 50% разморозка весов предобученной модели -> 75% разморозка -> 100% разморозка)\n",
    "- дополнительные функции callback в Keras        \n",
    "- настройка LR    \n",
    "- настройка параметров регуляризации полносвязного слоя нейронной сети\n",
    "- применен способ заполнения пропусков c помощью ImageDataAugmentor с использованием библиотеки аугментации изображений albumentations\n",
    "- подобраны переменные (размер картинки, батч, количество эпох)\n",
    "- добавлена Batch Normalization в архитектуре “головы” модели\n",
    "- SOTA архитектура сетей - Xception, InceptionV3, EfficientNetB5\n",
    "- добавлена TTA (Test Time Augmentation)\n",
    "                  \n",
    "Ввиду ограничений на пользование ресурсами GPU и времязатратности самого просчета модели, не удалось протестировать следующие техники настройки модели:\n",
    "- настройка optimizer\n",
    "- настройка loss\n",
    "- использование внешних датасетов для дообучения модели\n",
    "               "
   ]
  },
  {
   "cell_type": "code",
   "execution_count": null,
   "metadata": {
    "papermill": {
     "duration": 30.58147,
     "end_time": "2021-04-09T14:13:49.723178",
     "exception": false,
     "start_time": "2021-04-09T14:13:19.141708",
     "status": "completed"
    },
    "tags": []
   },
   "outputs": [],
   "source": []
  }
 ],
 "metadata": {
  "kernelspec": {
   "display_name": "Python 3",
   "language": "python",
   "name": "python3"
  },
  "language_info": {
   "codemirror_mode": {
    "name": "ipython",
    "version": 3
   },
   "file_extension": ".py",
   "mimetype": "text/x-python",
   "name": "python",
   "nbconvert_exporter": "python",
   "pygments_lexer": "ipython3",
   "version": "3.8.5"
  }
 },
 "nbformat": 4,
 "nbformat_minor": 4
}
